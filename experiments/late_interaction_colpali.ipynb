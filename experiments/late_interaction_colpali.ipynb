{
 "cells": [
  {
   "cell_type": "code",
   "execution_count": 1,
   "id": "57beaefa0f2647f1",
   "metadata": {
    "ExecuteTime": {
     "end_time": "2024-11-28T10:27:49.893832Z",
     "start_time": "2024-11-28T10:27:46.562442Z"
    }
   },
   "outputs": [
    {
     "data": {
      "application/vnd.jupyter.widget-view+json": {
       "model_id": "15d5aff7ab6746fca768261532fd6cef",
       "version_major": 2,
       "version_minor": 0
      },
      "text/plain": [
       "Fetching 7 files:   0%|          | 0/7 [00:00<?, ?it/s]"
      ]
     },
     "metadata": {},
     "output_type": "display_data"
    }
   ],
   "source": [
    "from tests.config import TEST_MISC_DIR\n",
    "from PIL import Image\n",
    "import numpy as np\n",
    "\n",
    "from fastembed.late_interaction.colpali import ColPali\n",
    "\n",
    "model = ColPali(\n",
    "    \"akshayballal/colpali-v1.2-merged\",\n",
    "    cache_dir=\"/Users/d.rudenko/PycharmProjects/opensource/fastembed/fake_cache\",\n",
    ")"
   ]
  },
  {
   "cell_type": "code",
   "execution_count": 2,
   "id": "dab18cf1ffd0c644",
   "metadata": {
    "ExecuteTime": {
     "end_time": "2024-11-28T10:28:12.187816Z",
     "start_time": "2024-11-28T10:27:49.902833Z"
    }
   },
   "outputs": [],
   "source": [
    "docs = [\"hello world\", \"flag embedding\"]\n",
    "expected_output = np.array([0.15808105, -0.020401, 0.10046387, -0.02319336, 0.04464722])\n",
    "embeddings = np.array(list(model.embed(docs, is_doc=True)))\n",
    "\n",
    "assert embeddings.shape == (len(docs), 16, 128)\n",
    "assert np.allclose(embeddings[0][0, : expected_output.shape[0]], expected_output, atol=1e-3)"
   ]
  },
  {
   "cell_type": "code",
   "execution_count": 5,
   "id": "3c50c019b2220f5d",
   "metadata": {
    "ExecuteTime": {
     "end_time": "2024-11-28T10:43:33.922105Z",
     "start_time": "2024-11-28T10:42:26.996731Z"
    }
   },
   "outputs": [],
   "source": [
    "images = [\n",
    "    TEST_MISC_DIR / \"image.jpeg\",\n",
    "    str(TEST_MISC_DIR / \"small_image.jpeg\"),\n",
    "    Image.open((TEST_MISC_DIR / \"small_image.jpeg\")),\n",
    "]\n",
    "expected_output = np.array([0.01533, 0.05118, 0.05948, 0.02583, -0.06128, -0.02682])\n",
    "embeddings = np.array(list(model.embed(images)))\n",
    "assert embeddings.shape == (len(images), 1030, 128)\n",
    "assert np.allclose(embeddings[0][0, : expected_output.shape[0]], expected_output, atol=1e-3)"
   ]
  },
  {
   "cell_type": "code",
   "execution_count": 6,
   "id": "3b0e778ef1aefed8",
   "metadata": {
    "ExecuteTime": {
     "end_time": "2024-11-28T10:07:53.734108Z",
     "start_time": "2024-11-28T10:07:53.728659Z"
    }
   },
   "outputs": [
    {
     "data": {
      "text/plain": [
       "(3, 128, 1030)"
      ]
     },
     "execution_count": 6,
     "metadata": {},
     "output_type": "execute_result"
    }
   ],
   "source": [
    "embeddings.shape"
   ]
  },
  {
   "cell_type": "code",
   "execution_count": 6,
   "id": "f8f6cda82bd2463a",
   "metadata": {
    "ExecuteTime": {
     "end_time": "2024-11-28T10:43:33.981622Z",
     "start_time": "2024-11-28T10:43:33.973188Z"
    }
   },
   "outputs": [
    {
     "data": {
      "text/plain": [
       "array([ 0.01533,  0.05118,  0.05948,  0.02583, -0.06128, -0.02682])"
      ]
     },
     "execution_count": 6,
     "metadata": {},
     "output_type": "execute_result"
    }
   ],
   "source": [
    "expected_output"
   ]
  },
  {
   "cell_type": "code",
   "execution_count": 4,
   "id": "c3525805415a1b83",
   "metadata": {
    "ExecuteTime": {
     "end_time": "2024-11-28T10:30:44.212927Z",
     "start_time": "2024-11-28T10:30:44.192814Z"
    }
   },
   "outputs": [
    {
     "data": {
      "text/plain": [
       "{'__init__',\n",
       " '_post_process_onnx_output',\n",
       " '_preprocess_onnx_image_input',\n",
       " '_preprocess_onnx_text_input',\n",
       " '_preprocess_queries',\n",
       " 'embed',\n",
       " 'load_onnx_model',\n",
       " 'onnx_embed',\n",
       " 'onnx_embed_image',\n",
       " 'onnx_embed_text'}"
      ]
     },
     "execution_count": 4,
     "metadata": {},
     "output_type": "execute_result"
    }
   ],
   "source": [
    "model._called_methods"
   ]
  },
  {
   "cell_type": "code",
   "execution_count": null,
   "id": "514067dd33ab4797",
   "metadata": {},
   "outputs": [],
   "source": []
  }
 ],
 "metadata": {
  "kernelspec": {
   "display_name": "Python 3",
   "language": "python",
   "name": "python3"
  },
  "language_info": {
   "codemirror_mode": {
    "name": "ipython",
    "version": 2
   },
   "file_extension": ".py",
   "mimetype": "text/x-python",
   "name": "python",
   "nbconvert_exporter": "python",
   "pygments_lexer": "ipython2",
   "version": "2.7.6"
  }
 },
 "nbformat": 4,
 "nbformat_minor": 5
}
