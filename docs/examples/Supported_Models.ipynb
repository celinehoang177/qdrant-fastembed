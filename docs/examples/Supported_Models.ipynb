{
 "cells": [
  {
   "cell_type": "code",
   "execution_count": 2,
   "metadata": {},
   "outputs": [],
   "source": [
    "%load_ext autoreload\n",
    "%autoreload 2"
   ]
  },
  {
   "cell_type": "code",
   "execution_count": 1,
   "metadata": {
    "ExecuteTime": {
     "end_time": "2024-03-30T00:49:44.741531Z",
     "start_time": "2024-03-30T00:49:44.278125Z"
    }
   },
   "outputs": [
    {
     "name": "stderr",
     "output_type": "stream",
     "text": [
      "/Users/joein/work/qdrant/fastembed/venv/lib/python3.11/site-packages/tqdm/auto.py:21: TqdmWarning: IProgress not found. Please update jupyter and ipywidgets. See https://ipywidgets.readthedocs.io/en/stable/user_install.html\n",
      "  from .autonotebook import tqdm as notebook_tqdm\n"
     ]
    },
    {
     "data": {
      "text/plain": "                                                          model   dim  \\\n0                                              BAAI/bge-base-en   768   \n1                                         BAAI/bge-base-en-v1.5   768   \n2                              BAAI/bge-large-en-v1.5-quantized  1024   \n3                                        BAAI/bge-large-en-v1.5  1024   \n4                                             BAAI/bge-small-en   384   \n5                                        BAAI/bge-small-en-v1.5   384   \n6                                        BAAI/bge-small-zh-v1.5   512   \n7                        sentence-transformers/all-MiniLM-L6-v2   384   \n8   sentence-transformers/paraphrase-multilingual-MiniLM-L12-v2   384   \n9                                  nomic-ai/nomic-embed-text-v1   768   \n10                               nomic-ai/nomic-embed-text-v1.5   768   \n11                                           thenlper/gte-large  1024   \n12                           mixedbread-ai/mxbai-embed-large-v1  1024   \n13                               intfloat/multilingual-e5-large  1024   \n14  sentence-transformers/paraphrase-multilingual-mpnet-base-v2   768   \n15                            jinaai/jina-embeddings-v2-base-en   768   \n16                           jinaai/jina-embeddings-v2-small-en   512   \n\n                                                                           description  \\\n0                                                                   Base English model   \n1                                                             Base English model, v1.5   \n2                                                            Large English model, v1.5   \n3                                                            Large English model, v1.5   \n4                                                                   Fast English model   \n5                                                       Fast and Default English model   \n6                                                   Fast and recommended Chinese model   \n7                                             Sentence Transformer model, MiniLM-L6-v2   \n8                    Sentence Transformer model, paraphrase-multilingual-MiniLM-L12-v2   \n9                                                    8192 context length english model   \n10                                                   8192 context length english model   \n11                                                 Large general text embeddings model   \n12                         MixedBread Base sentence embedding model, does well on MTEB   \n13  Multilingual model, e5-large. Recommend using this model for non-English languages   \n14            Sentence-transformers model for tasks like clustering or semantic search   \n15                             English embedding model supporting 8192 sequence length   \n16                             English embedding model supporting 8192 sequence length   \n\n    size_in_GB  \\\n0         0.50   \n1         0.44   \n2         1.34   \n3         1.34   \n4         0.20   \n5         0.13   \n6         0.10   \n7         0.09   \n8         0.46   \n9         0.54   \n10        0.54   \n11        1.34   \n12        1.34   \n13        2.24   \n14        1.11   \n15        0.55   \n16        0.13   \n\n                                                                                                                                           sources  \n0                                                               {'url': 'https://storage.googleapis.com/qdrant-fastembed/fast-bge-base-en.tar.gz'}  \n1                                                                                                         {'hf': 'qdrant/bge-base-en-v1.5-onnx-q'}  \n2                                                                                                        {'hf': 'qdrant/bge-large-en-v1.5-onnx-q'}  \n3                                                                                                          {'hf': 'qdrant/bge-large-en-v1.5-onnx'}  \n4                                                              {'url': 'https://storage.googleapis.com/qdrant-fastembed/BAAI-bge-small-en.tar.gz'}  \n5                {'url': 'https://storage.googleapis.com/qdrant-fastembed/fast-bge-small-en-v1.5.tar.gz', 'hf': 'qdrant/bge-small-en-v1.5-onnx-q'}  \n6                                                         {'url': 'https://storage.googleapis.com/qdrant-fastembed/fast-bge-small-zh-v1.5.tar.gz'}  \n7   {'url': 'https://storage.googleapis.com/qdrant-fastembed/sentence-transformers-all-MiniLM-L6-v2.tar.gz', 'hf': 'qdrant/all-MiniLM-L6-v2-onnx'}  \n8                                                                                    {'hf': 'qdrant/paraphrase-multilingual-MiniLM-L12-v2-onnx-Q'}  \n9                                                                                                           {'hf': 'nomic-ai/nomic-embed-text-v1'}  \n10                                                                                                        {'hf': 'nomic-ai/nomic-embed-text-v1.5'}  \n11                                                                                                                 {'hf': 'qdrant/gte-large-onnx'}  \n12                                                                                                    {'hf': 'mixedbread-ai/mxbai-embed-large-v1'}  \n13         {'url': 'https://storage.googleapis.com/qdrant-fastembed/fast-multilingual-e5-large.tar.gz', 'hf': 'qdrant/multilingual-e5-large-onnx'}  \n14                                                                                          {'hf': 'xenova/paraphrase-multilingual-mpnet-base-v2'}  \n15                                                                                                     {'hf': 'xenova/jina-embeddings-v2-base-en'}  \n16                                                                                                    {'hf': 'xenova/jina-embeddings-v2-small-en'}  ",
      "text/html": "<div>\n<style scoped>\n    .dataframe tbody tr th:only-of-type {\n        vertical-align: middle;\n    }\n\n    .dataframe tbody tr th {\n        vertical-align: top;\n    }\n\n    .dataframe thead th {\n        text-align: right;\n    }\n</style>\n<table border=\"1\" class=\"dataframe\">\n  <thead>\n    <tr style=\"text-align: right;\">\n      <th></th>\n      <th>model</th>\n      <th>dim</th>\n      <th>description</th>\n      <th>size_in_GB</th>\n      <th>sources</th>\n    </tr>\n  </thead>\n  <tbody>\n    <tr>\n      <th>0</th>\n      <td>BAAI/bge-base-en</td>\n      <td>768</td>\n      <td>Base English model</td>\n      <td>0.50</td>\n      <td>{'url': 'https://storage.googleapis.com/qdrant-fastembed/fast-bge-base-en.tar.gz'}</td>\n    </tr>\n    <tr>\n      <th>1</th>\n      <td>BAAI/bge-base-en-v1.5</td>\n      <td>768</td>\n      <td>Base English model, v1.5</td>\n      <td>0.44</td>\n      <td>{'hf': 'qdrant/bge-base-en-v1.5-onnx-q'}</td>\n    </tr>\n    <tr>\n      <th>2</th>\n      <td>BAAI/bge-large-en-v1.5-quantized</td>\n      <td>1024</td>\n      <td>Large English model, v1.5</td>\n      <td>1.34</td>\n      <td>{'hf': 'qdrant/bge-large-en-v1.5-onnx-q'}</td>\n    </tr>\n    <tr>\n      <th>3</th>\n      <td>BAAI/bge-large-en-v1.5</td>\n      <td>1024</td>\n      <td>Large English model, v1.5</td>\n      <td>1.34</td>\n      <td>{'hf': 'qdrant/bge-large-en-v1.5-onnx'}</td>\n    </tr>\n    <tr>\n      <th>4</th>\n      <td>BAAI/bge-small-en</td>\n      <td>384</td>\n      <td>Fast English model</td>\n      <td>0.20</td>\n      <td>{'url': 'https://storage.googleapis.com/qdrant-fastembed/BAAI-bge-small-en.tar.gz'}</td>\n    </tr>\n    <tr>\n      <th>5</th>\n      <td>BAAI/bge-small-en-v1.5</td>\n      <td>384</td>\n      <td>Fast and Default English model</td>\n      <td>0.13</td>\n      <td>{'url': 'https://storage.googleapis.com/qdrant-fastembed/fast-bge-small-en-v1.5.tar.gz', 'hf': 'qdrant/bge-small-en-v1.5-onnx-q'}</td>\n    </tr>\n    <tr>\n      <th>6</th>\n      <td>BAAI/bge-small-zh-v1.5</td>\n      <td>512</td>\n      <td>Fast and recommended Chinese model</td>\n      <td>0.10</td>\n      <td>{'url': 'https://storage.googleapis.com/qdrant-fastembed/fast-bge-small-zh-v1.5.tar.gz'}</td>\n    </tr>\n    <tr>\n      <th>7</th>\n      <td>sentence-transformers/all-MiniLM-L6-v2</td>\n      <td>384</td>\n      <td>Sentence Transformer model, MiniLM-L6-v2</td>\n      <td>0.09</td>\n      <td>{'url': 'https://storage.googleapis.com/qdrant-fastembed/sentence-transformers-all-MiniLM-L6-v2.tar.gz', 'hf': 'qdrant/all-MiniLM-L6-v2-onnx'}</td>\n    </tr>\n    <tr>\n      <th>8</th>\n      <td>sentence-transformers/paraphrase-multilingual-MiniLM-L12-v2</td>\n      <td>384</td>\n      <td>Sentence Transformer model, paraphrase-multilingual-MiniLM-L12-v2</td>\n      <td>0.46</td>\n      <td>{'hf': 'qdrant/paraphrase-multilingual-MiniLM-L12-v2-onnx-Q'}</td>\n    </tr>\n    <tr>\n      <th>9</th>\n      <td>nomic-ai/nomic-embed-text-v1</td>\n      <td>768</td>\n      <td>8192 context length english model</td>\n      <td>0.54</td>\n      <td>{'hf': 'nomic-ai/nomic-embed-text-v1'}</td>\n    </tr>\n    <tr>\n      <th>10</th>\n      <td>nomic-ai/nomic-embed-text-v1.5</td>\n      <td>768</td>\n      <td>8192 context length english model</td>\n      <td>0.54</td>\n      <td>{'hf': 'nomic-ai/nomic-embed-text-v1.5'}</td>\n    </tr>\n    <tr>\n      <th>11</th>\n      <td>thenlper/gte-large</td>\n      <td>1024</td>\n      <td>Large general text embeddings model</td>\n      <td>1.34</td>\n      <td>{'hf': 'qdrant/gte-large-onnx'}</td>\n    </tr>\n    <tr>\n      <th>12</th>\n      <td>mixedbread-ai/mxbai-embed-large-v1</td>\n      <td>1024</td>\n      <td>MixedBread Base sentence embedding model, does well on MTEB</td>\n      <td>1.34</td>\n      <td>{'hf': 'mixedbread-ai/mxbai-embed-large-v1'}</td>\n    </tr>\n    <tr>\n      <th>13</th>\n      <td>intfloat/multilingual-e5-large</td>\n      <td>1024</td>\n      <td>Multilingual model, e5-large. Recommend using this model for non-English languages</td>\n      <td>2.24</td>\n      <td>{'url': 'https://storage.googleapis.com/qdrant-fastembed/fast-multilingual-e5-large.tar.gz', 'hf': 'qdrant/multilingual-e5-large-onnx'}</td>\n    </tr>\n    <tr>\n      <th>14</th>\n      <td>sentence-transformers/paraphrase-multilingual-mpnet-base-v2</td>\n      <td>768</td>\n      <td>Sentence-transformers model for tasks like clustering or semantic search</td>\n      <td>1.11</td>\n      <td>{'hf': 'xenova/paraphrase-multilingual-mpnet-base-v2'}</td>\n    </tr>\n    <tr>\n      <th>15</th>\n      <td>jinaai/jina-embeddings-v2-base-en</td>\n      <td>768</td>\n      <td>English embedding model supporting 8192 sequence length</td>\n      <td>0.55</td>\n      <td>{'hf': 'xenova/jina-embeddings-v2-base-en'}</td>\n    </tr>\n    <tr>\n      <th>16</th>\n      <td>jinaai/jina-embeddings-v2-small-en</td>\n      <td>512</td>\n      <td>English embedding model supporting 8192 sequence length</td>\n      <td>0.13</td>\n      <td>{'hf': 'xenova/jina-embeddings-v2-small-en'}</td>\n    </tr>\n  </tbody>\n</table>\n</div>"
     },
     "execution_count": 1,
     "metadata": {},
     "output_type": "execute_result"
    }
   ],
   "source": [
    "from fastembed import TextEmbedding\n",
    "import pandas as pd\n",
    "\n",
    "pd.set_option(\"display.max_colwidth\", None)\n",
    "pd.DataFrame(TextEmbedding.list_supported_models())"
   ]
  },
  {
   "cell_type": "code",
   "outputs": [],
   "source": [],
   "metadata": {
    "collapsed": false
   }
  }
 ],
 "metadata": {
  "kernelspec": {
   "display_name": "Python 3.8.18 ('base')",
   "language": "python",
   "name": "python3"
  },
  "language_info": {
   "codemirror_mode": {
    "name": "ipython",
    "version": 3
   },
   "file_extension": ".py",
   "mimetype": "text/x-python",
   "name": "python",
   "nbconvert_exporter": "python",
   "pygments_lexer": "ipython3",
   "version": "3.8.18"
  },
  "orig_nbformat": 4,
  "vscode": {
   "interpreter": {
    "hash": "c4a27af61e455bc18dcf16f5867a2ff0402fa12b01dd0f6ce3a79ae73ad15e91"
   }
  }
 },
 "nbformat": 4,
 "nbformat_minor": 2
}
