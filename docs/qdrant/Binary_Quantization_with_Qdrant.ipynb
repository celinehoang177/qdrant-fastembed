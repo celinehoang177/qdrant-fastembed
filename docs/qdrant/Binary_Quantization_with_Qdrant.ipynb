{
 "cells": [
  {
   "cell_type": "markdown",
   "metadata": {},
   "source": [
    "# Binary Quantization with Qdrant & OpenAI Embedding\n",
    "\n",
    "---\n",
    "In the world of large-scale data retrieval and processing, efficiency is crucial. With the exponential growth of data, the ability to retrieve information quickly and accurately can significantly affect system performance. This blog post explores a technique known as binary quantization applied to OpenAI embeddings, demonstrating how it can enhance **retrieval latency by 20x** or more.\n",
    "\n",
    "## What Are OpenAI Embeddings?\n",
    "OpenAI embeddings are numerical representations of textual information. They transform text into a vector space where semantically similar texts are mapped close together. This mathematical representation enables computers to understand and process human language more effectively.\n",
    "\n",
    "## Binary Quantization\n",
    "Binary quantization is a method which converts continuous numerical values into binary values (0 or 1). It simplifies the data structure, allowing faster computations. Here's a brief overview of the binary quantization process applied to OpenAI embeddings:\n",
    "\n",
    "1. **Load Embeddings**: OpenAI embeddings are loaded from parquet files.\n",
    "2. **Binary Transformation**: The continuous valued vectors are converted into binary form. Here, values greater than 0 are set to 1, and others remain 0.\n",
    "3. **Comparison & Retrieval**: Binary vectors are used for comparison using logical XOR operations and other efficient algorithms.\n",
    "\n",
    "Binary Quantization is a promising approach to improve retrieval speeds and reduce memory footprint of vector search engines. In this notebook we will show how to use Qdrant to perform binary quantization of vectors and perform fast similarity search on the resulting index.\n",
    "\n",
    "## Table of Contents\n",
    "1. Imports\n",
    "2. Download and Slice Dataset\n",
    "3. Create Qdrant Collection\n",
    "4. Indexing\n",
    "5. Search\n",
    "\n",
    "## 1. Imports"
   ]
  },
  {
   "cell_type": "code",
   "execution_count": null,
   "metadata": {},
   "outputs": [],
   "source": [
    "!pip install qdrant-client pandas dataset --quiet --upgrade"
   ]
  },
  {
   "cell_type": "code",
   "execution_count": null,
   "metadata": {},
   "outputs": [],
   "source": [
    "import pandas as pd\n",
    "from qdrant_client import QdrantClient, models"
   ]
  },
  {
   "cell_type": "markdown",
   "metadata": {},
   "source": [
    "## 2. Download and Slice Dataset\n",
    "\n",
    "We will be using the [dbpedia-entities](https://huggingface.co/datasets/Qdrant/dbpedia-entities-openai3-text-embedding-3-small-1536-100K) dataset from the [HuggingFace Datasets](https://huggingface.co/datasets) library. This contains 100K vectors of 1536 dimensions each"
   ]
  },
  {
   "cell_type": "code",
   "execution_count": null,
   "metadata": {},
   "outputs": [],
   "source": [
    "import datasets\n",
    "\n",
    "dataset = datasets.load_dataset(\n",
    "    \"Qdrant/dbpedia-entities-openai3-text-embedding-3-small-1536-100K\", split=\"train\"\n",
    ")"
   ]
  },
  {
   "cell_type": "code",
   "execution_count": null,
   "metadata": {},
   "outputs": [],
   "source": [
    "len(dataset)\n",
    "# dataset[0]"
   ]
  },
  {
   "cell_type": "code",
   "execution_count": null,
   "metadata": {},
   "outputs": [],
   "source": [
    "client = QdrantClient(\n",
    "    timeout=600,\n",
    "    prefer_grpc=True,\n",
    ")\n",
    "\n",
    "collection_name = \"binary-quantization\"\n",
    "client.recreate_collection(\n",
    "    collection_name=f\"{collection_name}\",\n",
    "    vectors_config=models.VectorParams(\n",
    "        size=1536,\n",
    "        distance=models.Distance.DOT,\n",
    "        on_disk=True,\n",
    "    ),\n",
    "    quantization_config=models.BinaryQuantization(\n",
    "        binary=models.BinaryQuantizationConfig(always_ram=True),\n",
    "    ),\n",
    ")"
   ]
  },
  {
   "cell_type": "code",
   "execution_count": null,
   "metadata": {},
   "outputs": [],
   "source": [
    "import os\n",
    "\n",
    "\n",
    "bs = 1000\n",
    "for i in range(0, len(dataset), bs):\n",
    "    client.upload_collection(\n",
    "        collection_name=collection_name,\n",
    "        ids=range(i, i + bs),\n",
    "        vectors=dataset[i : i + bs][\"openai\"],\n",
    "        payload=[{\"text\": x} for x in dataset[i : i + bs][\"text\"]],\n",
    "        parallel=max(1, (os.cpu_count() // 2)),\n",
    "    )"
   ]
  },
  {
   "cell_type": "code",
   "execution_count": null,
   "metadata": {},
   "outputs": [],
   "source": [
    "collection_info = client.get_collection(collection_name=f\"{collection_name}\")\n",
    "collection_info.dict()"
   ]
  },
  {
   "cell_type": "markdown",
   "metadata": {},
   "source": [
    "## Oversampling vs Recall\n",
    "\n",
    "### Preparing a query dataset\n",
    "\n",
    "For the purpose of this illustration, we'll take a few vectors which we know are already in the index and query them. We should get the same vectors back as results from the Qdrant index. "
   ]
  },
  {
   "cell_type": "code",
   "execution_count": null,
   "metadata": {},
   "outputs": [],
   "source": [
    "import random\n",
    "from random import randint\n",
    "\n",
    "random.seed(37)\n",
    "\n",
    "query_indices = [randint(0, len(dataset)) for _ in range(100)]\n",
    "query_dataset = dataset[query_indices]\n",
    "query_indices"
   ]
  },
  {
   "cell_type": "code",
   "execution_count": null,
   "metadata": {},
   "outputs": [],
   "source": [
    "## Add Gaussian noise to any vector\n",
    "import numpy as np\n",
    "\n",
    "np.random.seed(37)\n",
    "\n",
    "\n",
    "def add_noise(vector, noise=0.05):\n",
    "    return vector + noise * np.random.randn(*vector.shape)"
   ]
  },
  {
   "cell_type": "code",
   "execution_count": null,
   "metadata": {},
   "outputs": [],
   "source": [
    "import time\n",
    "\n",
    "\n",
    "def correct(results, text):\n",
    "    result_texts = [x.payload[\"text\"] for x in results]\n",
    "    return text in result_texts\n",
    "\n",
    "\n",
    "def count_correct(query_dataset, limit=1, oversampling=1, rescore=False):\n",
    "    correct_results = 0\n",
    "    for qv, text in zip(query_dataset[\"openai\"], query_dataset[\"text\"]):\n",
    "        results = client.search(\n",
    "            collection_name=collection_name,\n",
    "            query_vector=add_noise(np.array(qv)),\n",
    "            limit=limit,\n",
    "            search_params=models.SearchParams(\n",
    "                quantization=models.QuantizationSearchParams(\n",
    "                    ignore=False,\n",
    "                    rescore=rescore,\n",
    "                    oversampling=oversampling,\n",
    "                )\n",
    "            ),\n",
    "        )\n",
    "        correct_results += correct(results, text)\n",
    "    return correct_results\n",
    "\n",
    "\n",
    "limit_grid = [1, 3, 5, 10, 20, 50]\n",
    "# limit_grid = [1, 3, 5]\n",
    "oversampling_grid = [1.0, 1.5, 2.0, 3.0, 5.0]\n",
    "# oversampling_grid = [1.0, 1.5, 2.0]\n",
    "rescore_grid = [False, True]\n",
    "results = []\n",
    "for limit in limit_grid:\n",
    "    for oversampling in oversampling_grid:\n",
    "        for rescore in rescore_grid:\n",
    "            # print(f\"limit={limit}, oversampling={oversampling}, rescore={rescore}\")\n",
    "            start = time.time()\n",
    "            correct_results = count_correct(\n",
    "                query_dataset, limit=limit, oversampling=oversampling, rescore=rescore\n",
    "            )\n",
    "            end = time.time()\n",
    "            results.append(\n",
    "                {\n",
    "                    \"limit\": limit,\n",
    "                    \"oversampling\": oversampling,\n",
    "                    \"rescore\": rescore,\n",
    "                    \"correct\": correct_results,\n",
    "                    \"total queries\": len(query_dataset[\"text\"]),\n",
    "                    \"time\": end - start,\n",
    "                }\n",
    "            )\n",
    "\n",
    "results_df = pd.DataFrame(results)\n",
    "results_df"
   ]
  },
  {
   "cell_type": "code",
   "execution_count": null,
   "metadata": {},
   "outputs": [],
   "source": [
    "df = results_df.copy()\n",
    "df[\"candidates\"] = df[\"oversampling\"] * df[\"limit\"]\n",
    "df[[\"candidates\", \"rescore\", \"time\"]]\n",
    "# df.to_csv(\"candidates-rescore-time.csv\", index=False)"
   ]
  }
 ],
 "metadata": {
  "kernelspec": {
   "display_name": "Python 3 (ipykernel)",
   "language": "python",
   "name": "python3"
  },
  "language_info": {
   "codemirror_mode": {
    "name": "ipython",
    "version": 3
   },
   "file_extension": ".py",
   "mimetype": "text/x-python",
   "name": "python",
   "nbconvert_exporter": "python",
   "pygments_lexer": "ipython3",
   "version": "3.10.13"
  }
 },
 "nbformat": 4,
 "nbformat_minor": 4
}
