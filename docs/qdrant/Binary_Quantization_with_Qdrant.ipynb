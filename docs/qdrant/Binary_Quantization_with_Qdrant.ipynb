{
 "cells": [
  {
   "cell_type": "markdown",
   "metadata": {},
   "source": [
    "# Binary Quantization with Qdrant & OpenAI Embedding\n",
    "\n",
    "---\n",
    "In the world of large-scale data retrieval and processing, efficiency is crucial. With the exponential growth of data, the ability to retrieve information quickly and accurately can significantly affect system performance. This blog post explores a technique known as binary quantization applied to OpenAI embeddings, demonstrating how it can enhance **retrieval latency by 20x** or more.\n",
    "\n",
    "## What Are OpenAI Embeddings?\n",
    "OpenAI embeddings are numerical representations of textual information. They transform text into a vector space where semantically similar texts are mapped close together. This mathematical representation enables computers to understand and process human language more effectively.\n",
    "\n",
    "## Binary Quantization\n",
    "Binary quantization is a method which converts continuous numerical values into binary values (0 or 1). It simplifies the data structure, allowing faster computations. Here's a brief overview of the binary quantization process applied to OpenAI embeddings:\n",
    "\n",
    "1. **Load Embeddings**: OpenAI embeddings are loaded from parquet files.\n",
    "2. **Binary Transformation**: The continuous valued vectors are converted into binary form. Here, values greater than 0 are set to 1, and others remain 0.\n",
    "3. **Comparison & Retrieval**: Binary vectors are used for comparison using logical XOR operations and other efficient algorithms.\n",
    "\n",
    "Binary Quantization is a promising approach to improve retrieval speeds and reduce memory footprint of vector search engines. In this notebook we will show how to use Qdrant to perform binary quantization of vectors and perform fast similarity search on the resulting index.\n",
    "\n",
    "## Table of Contents\n",
    "1. Imports\n",
    "2. Download and Slice Dataset\n",
    "3. Create Qdrant Collection\n",
    "4. Indexing\n",
    "5. Search\n",
    "\n",
    "## 1. Imports"
   ]
  },
  {
   "cell_type": "code",
   "execution_count": 1,
   "metadata": {},
   "outputs": [
    {
     "name": "stdout",
     "output_type": "stream",
     "text": [
      "\u001b[33mWARNING: Ignoring invalid distribution -andas (/opt/homebrew/Caskroom/miniconda/base/envs/fst/lib/python3.10/site-packages)\u001b[0m\u001b[33m\n",
      "\u001b[0m\u001b[33mWARNING: Ignoring invalid distribution -andas (/opt/homebrew/Caskroom/miniconda/base/envs/fst/lib/python3.10/site-packages)\u001b[0m\u001b[33m\n",
      "\u001b[0m"
     ]
    }
   ],
   "source": [
    "!pip install qdrant-client pandas dataset --quiet --upgrade"
   ]
  },
  {
   "cell_type": "code",
   "execution_count": 2,
   "metadata": {},
   "outputs": [],
   "source": [
    "import pandas as pd\n",
    "from qdrant_client import QdrantClient, models"
   ]
  },
  {
   "cell_type": "markdown",
   "metadata": {},
   "source": [
    "## 2. Download and Slice Dataset\n",
    "\n",
    "We will be using the [dbpedia-entities](https://huggingface.co/datasets/Qdrant/dbpedia-entities-openai3-text-embedding-3-small-1536-100K) dataset from the [HuggingFace Datasets](https://huggingface.co/datasets) library. This contains 100K vectors of 1536 dimensions each"
   ]
  },
  {
   "cell_type": "code",
   "execution_count": 4,
   "metadata": {},
   "outputs": [],
   "source": [
    "import datasets\n",
    "\n",
    "dataset = datasets.load_dataset(\n",
    "    \"Qdrant/dbpedia-entities-openai3-text-embedding-3-small-1536-100K\", split=\"train\"\n",
    ")"
   ]
  },
  {
   "cell_type": "code",
   "execution_count": 5,
   "metadata": {},
   "outputs": [
    {
     "data": {
      "text/plain": [
       "100000"
      ]
     },
     "execution_count": 5,
     "metadata": {},
     "output_type": "execute_result"
    }
   ],
   "source": [
    "len(dataset)\n",
    "# dataset[0]"
   ]
  },
  {
   "cell_type": "code",
   "execution_count": 8,
   "metadata": {},
   "outputs": [
    {
     "data": {
      "text/plain": [
       "True"
      ]
     },
     "execution_count": 8,
     "metadata": {},
     "output_type": "execute_result"
    }
   ],
   "source": [
    "client = QdrantClient(\n",
    "    \":memory:\",\n",
    "    timeout=600,\n",
    "    prefer_grpc=True,\n",
    ")\n",
    "\n",
    "collection_name = \"binary-quantization\"\n",
    "client.recreate_collection(\n",
    "    collection_name=f\"{collection_name}\",\n",
    "    vectors_config=models.VectorParams(\n",
    "        size=1536,\n",
    "        distance=models.Distance.DOT,\n",
    "        on_disk=True,\n",
    "    ),\n",
    "    quantization_config=models.BinaryQuantization(\n",
    "        binary=models.BinaryQuantizationConfig(always_ram=True),\n",
    "    ),\n",
    ")"
   ]
  },
  {
   "cell_type": "code",
   "execution_count": 9,
   "metadata": {},
   "outputs": [],
   "source": [
    "import os\n",
    "\n",
    "\n",
    "bs = 1000\n",
    "for i in range(0, len(dataset), bs):\n",
    "    client.upload_collection(\n",
    "        collection_name=collection_name,\n",
    "        ids=range(i, i + bs),\n",
    "        vectors=dataset[i : i + bs][\"openai\"],\n",
    "        payload=[{\"text\": x} for x in dataset[i : i + bs][\"text\"]],\n",
    "        parallel=max(1, (os.cpu_count() // 2)),\n",
    "    )"
   ]
  },
  {
   "cell_type": "code",
   "execution_count": 10,
   "metadata": {},
   "outputs": [
    {
     "data": {
      "text/plain": [
       "{'status': <CollectionStatus.GREEN: 'green'>,\n",
       " 'optimizer_status': <OptimizersStatusOneOf.OK: 'ok'>,\n",
       " 'vectors_count': 100000,\n",
       " 'indexed_vectors_count': 0,\n",
       " 'points_count': 100000,\n",
       " 'segments_count': 1,\n",
       " 'config': {'params': {'vectors': {'size': 1536,\n",
       "    'distance': <Distance.DOT: 'Dot'>,\n",
       "    'hnsw_config': None,\n",
       "    'quantization_config': None,\n",
       "    'on_disk': True},\n",
       "   'shard_number': None,\n",
       "   'sharding_method': None,\n",
       "   'replication_factor': None,\n",
       "   'write_consistency_factor': None,\n",
       "   'read_fan_out_factor': None,\n",
       "   'on_disk_payload': None,\n",
       "   'sparse_vectors': None},\n",
       "  'hnsw_config': {'m': 16,\n",
       "   'ef_construct': 100,\n",
       "   'full_scan_threshold': 10000,\n",
       "   'max_indexing_threads': 0,\n",
       "   'on_disk': None,\n",
       "   'payload_m': None},\n",
       "  'optimizer_config': {'deleted_threshold': 0.2,\n",
       "   'vacuum_min_vector_number': 1000,\n",
       "   'default_segment_number': 0,\n",
       "   'max_segment_size': None,\n",
       "   'memmap_threshold': None,\n",
       "   'indexing_threshold': 20000,\n",
       "   'flush_interval_sec': 5,\n",
       "   'max_optimization_threads': 1},\n",
       "  'wal_config': {'wal_capacity_mb': 32, 'wal_segments_ahead': 0},\n",
       "  'quantization_config': None},\n",
       " 'payload_schema': {}}"
      ]
     },
     "execution_count": 10,
     "metadata": {},
     "output_type": "execute_result"
    }
   ],
   "source": [
    "collection_info = client.get_collection(collection_name=f\"{collection_name}\")\n",
    "collection_info.dict()"
   ]
  },
  {
   "cell_type": "markdown",
   "metadata": {},
   "source": [
    "## Oversampling vs Recall\n",
    "\n",
    "### Preparing a query dataset\n",
    "\n",
    "For the purpose of this illustration, we'll take a few vectors which we know are already in the index and query them. We should get the same vectors back as results from the Qdrant index. "
   ]
  },
  {
   "cell_type": "code",
   "execution_count": 11,
   "metadata": {},
   "outputs": [
    {
     "data": {
      "text/plain": [
       "[89391,\n",
       " 79659,\n",
       " 12006,\n",
       " 80978,\n",
       " 87219,\n",
       " 97885,\n",
       " 83155,\n",
       " 67504,\n",
       " 4645,\n",
       " 82711,\n",
       " 48395,\n",
       " 57375,\n",
       " 69208,\n",
       " 14136,\n",
       " 89515,\n",
       " 59880,\n",
       " 78730,\n",
       " 36952,\n",
       " 49620,\n",
       " 96486,\n",
       " 55473,\n",
       " 58179,\n",
       " 18926,\n",
       " 6489,\n",
       " 11931,\n",
       " 54146,\n",
       " 9850,\n",
       " 71259,\n",
       " 37825,\n",
       " 47331,\n",
       " 84964,\n",
       " 92399,\n",
       " 56669,\n",
       " 77042,\n",
       " 73744,\n",
       " 47993,\n",
       " 83780,\n",
       " 92429,\n",
       " 75114,\n",
       " 4463,\n",
       " 69030,\n",
       " 81185,\n",
       " 27950,\n",
       " 66217,\n",
       " 54652,\n",
       " 8260,\n",
       " 1151,\n",
       " 993,\n",
       " 85954,\n",
       " 66863,\n",
       " 47303,\n",
       " 8992,\n",
       " 92688,\n",
       " 76030,\n",
       " 29472,\n",
       " 3077,\n",
       " 42454,\n",
       " 46120,\n",
       " 69140,\n",
       " 20877,\n",
       " 2844,\n",
       " 95423,\n",
       " 1770,\n",
       " 28568,\n",
       " 96448,\n",
       " 94227,\n",
       " 40837,\n",
       " 91684,\n",
       " 29785,\n",
       " 66936,\n",
       " 85121,\n",
       " 39546,\n",
       " 81910,\n",
       " 5514,\n",
       " 37068,\n",
       " 35731,\n",
       " 93990,\n",
       " 26685,\n",
       " 63076,\n",
       " 18762,\n",
       " 27922,\n",
       " 34916,\n",
       " 80976,\n",
       " 83189,\n",
       " 6328,\n",
       " 57508,\n",
       " 58860,\n",
       " 13758,\n",
       " 72976,\n",
       " 85030,\n",
       " 332,\n",
       " 34963,\n",
       " 85009,\n",
       " 31344,\n",
       " 11560,\n",
       " 58108,\n",
       " 85163,\n",
       " 17064,\n",
       " 44712,\n",
       " 45962]"
      ]
     },
     "execution_count": 11,
     "metadata": {},
     "output_type": "execute_result"
    }
   ],
   "source": [
    "import random\n",
    "from random import randint\n",
    "\n",
    "random.seed(37)\n",
    "\n",
    "query_indices = [randint(0, len(dataset)) for _ in range(100)]\n",
    "query_dataset = dataset[query_indices]\n",
    "query_indices"
   ]
  },
  {
   "cell_type": "code",
   "execution_count": 12,
   "metadata": {},
   "outputs": [],
   "source": [
    "## Add Gaussian noise to any vector\n",
    "import numpy as np\n",
    "\n",
    "np.random.seed(37)\n",
    "\n",
    "\n",
    "def add_noise(vector, noise=0.05):\n",
    "    return vector + noise * np.random.randn(*vector.shape)"
   ]
  },
  {
   "cell_type": "code",
   "execution_count": 13,
   "metadata": {},
   "outputs": [],
   "source": [
    "import time\n",
    "\n",
    "\n",
    "def correct(results, text):\n",
    "    result_texts = [x.payload[\"text\"] for x in results]\n",
    "    return text in result_texts\n",
    "\n",
    "\n",
    "def count_correct(query_dataset, limit=1, oversampling=1, rescore=False):\n",
    "    correct_results = 0\n",
    "    for qv, text in zip(query_dataset[\"openai\"], query_dataset[\"text\"]):\n",
    "        results = client.search(\n",
    "            collection_name=collection_name,\n",
    "            query_vector=add_noise(np.array(qv)),\n",
    "            limit=limit,\n",
    "            search_params=models.SearchParams(\n",
    "                quantization=models.QuantizationSearchParams(\n",
    "                    ignore=False,\n",
    "                    rescore=rescore,\n",
    "                    oversampling=oversampling,\n",
    "                )\n",
    "            ),\n",
    "        )\n",
    "        correct_results += correct(results, text)\n",
    "    return correct_results\n",
    "\n",
    "\n",
    "limit_grid = [1, 3, 5, 10, 20, 50]\n",
    "# limit_grid = [1, 3, 5]\n",
    "oversampling_grid = [1.0, 1.5, 2.0, 3.0, 5.0]\n",
    "# oversampling_grid = [1.0, 1.5, 2.0]\n",
    "rescore_grid = [False, True]\n",
    "results = []\n",
    "for limit in limit_grid:\n",
    "    for oversampling in oversampling_grid:\n",
    "        for rescore in rescore_grid:\n",
    "            # print(f\"limit={limit}, oversampling={oversampling}, rescore={rescore}\")\n",
    "            start = time.time()\n",
    "            correct_results = count_correct(\n",
    "                query_dataset, limit=limit, oversampling=oversampling, rescore=rescore\n",
    "            )\n",
    "            end = time.time()\n",
    "            results.append(\n",
    "                {\n",
    "                    \"limit\": limit,\n",
    "                    \"oversampling\": oversampling,\n",
    "                    \"rescore\": rescore,\n",
    "                    \"correct\": correct_results,\n",
    "                    \"total queries\": len(query_dataset[\"text\"]),\n",
    "                    \"time\": end - start,\n",
    "                }\n",
    "            )\n",
    "\n",
    "results_df = pd.DataFrame(results)\n",
    "results_df"
   ]
  },
  {
   "cell_type": "code",
   "execution_count": null,
   "metadata": {},
   "outputs": [],
   "source": [
    "df = results_df.copy()\n",
    "df[\"candidates\"] = df[\"oversampling\"] * df[\"limit\"]\n",
    "df[[\"candidates\", \"rescore\", \"time\"]]\n",
    "# df.to_csv(\"candidates-rescore-time.csv\", index=False)"
   ]
  }
 ],
 "metadata": {
  "kernelspec": {
   "display_name": "Python 3 (ipykernel)",
   "language": "python",
   "name": "python3"
  },
  "language_info": {
   "codemirror_mode": {
    "name": "ipython",
    "version": 3
   },
   "file_extension": ".py",
   "mimetype": "text/x-python",
   "name": "python",
   "nbconvert_exporter": "python",
   "pygments_lexer": "ipython3",
   "version": "3.10.13"
  }
 },
 "nbformat": 4,
 "nbformat_minor": 4
}
