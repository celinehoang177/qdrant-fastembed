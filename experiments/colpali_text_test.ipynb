{
 "cells": [
  {
   "cell_type": "code",
   "execution_count": 6,
   "id": "54b3bfd4ad5b9ee6",
   "metadata": {
    "ExecuteTime": {
     "end_time": "2024-11-28T10:44:32.841758Z",
     "start_time": "2024-11-28T10:44:32.830025Z"
    }
   },
   "outputs": [],
   "source": [
    "# Your inputs\n",
    "queries = [\n",
    "    # \"Is attention really all you need?\",\n",
    "    # \"Are Benjamin, Antoine, Merve, and Jo best friends?\",\n",
    "    # \"Long long long long long long long long long long long long long long long long long long long long long long long long long long long long long long long long long long long long long long long long long long long long long long long long long long long long long long long long long long long long long long long long long long long long long long long long long long long long long long long long long long long long long long long long long long long long long long long long long long long long long long long long long long long long long\"\n",
    "    \"hello world\",\n",
    "    \"flag embedding\",\n",
    "]"
   ]
  },
  {
   "cell_type": "code",
   "execution_count": 2,
   "id": "86ee1b68fb88b11d",
   "metadata": {
    "ExecuteTime": {
     "end_time": "2024-11-27T22:54:23.016952Z",
     "start_time": "2024-11-27T22:33:14.872976Z"
    }
   },
   "outputs": [
    {
     "data": {
      "application/vnd.jupyter.widget-view+json": {
       "model_id": "f1b463d5ae47404f951fecc6629e8008",
       "version_major": 2,
       "version_minor": 0
      },
      "text/plain": [
       "Fetching 7 files:   0%|          | 0/7 [00:00<?, ?it/s]"
      ]
     },
     "metadata": {},
     "output_type": "display_data"
    },
    {
     "data": {
      "application/vnd.jupyter.widget-view+json": {
       "model_id": "efe53dfd5f944b0e8471640bb06853fa",
       "version_major": 2,
       "version_minor": 0
      },
      "text/plain": [
       "config.json:   0%|          | 0.00/999 [00:00<?, ?B/s]"
      ]
     },
     "metadata": {},
     "output_type": "display_data"
    },
    {
     "data": {
      "application/vnd.jupyter.widget-view+json": {
       "model_id": "0cf4ef27186a4f168ac773327db6f69f",
       "version_major": 2,
       "version_minor": 0
      },
      "text/plain": [
       "preprocessor_config.json:   0%|          | 0.00/700 [00:00<?, ?B/s]"
      ]
     },
     "metadata": {},
     "output_type": "display_data"
    },
    {
     "data": {
      "application/vnd.jupyter.widget-view+json": {
       "model_id": "29410bf54eef4416aaa403ae1c8570af",
       "version_major": 2,
       "version_minor": 0
      },
      "text/plain": [
       "special_tokens_map.json:   0%|          | 0.00/733 [00:00<?, ?B/s]"
      ]
     },
     "metadata": {},
     "output_type": "display_data"
    },
    {
     "data": {
      "application/vnd.jupyter.widget-view+json": {
       "model_id": "8712ea1c7cb248a09f1426b396697d57",
       "version_major": 2,
       "version_minor": 0
      },
      "text/plain": [
       "tokenizer_config.json:   0%|          | 0.00/243k [00:00<?, ?B/s]"
      ]
     },
     "metadata": {},
     "output_type": "display_data"
    },
    {
     "data": {
      "application/vnd.jupyter.widget-view+json": {
       "model_id": "9c0f9d23532644cea2d73386526e0160",
       "version_major": 2,
       "version_minor": 0
      },
      "text/plain": [
       "tokenizer.json:   0%|          | 0.00/17.8M [00:00<?, ?B/s]"
      ]
     },
     "metadata": {},
     "output_type": "display_data"
    },
    {
     "data": {
      "application/vnd.jupyter.widget-view+json": {
       "model_id": "1e24d6175e664e56963e40cd049abf89",
       "version_major": 2,
       "version_minor": 0
      },
      "text/plain": [
       "model.onnx_data:   0%|          | 0.00/5.85G [00:00<?, ?B/s]"
      ]
     },
     "metadata": {},
     "output_type": "display_data"
    },
    {
     "data": {
      "application/vnd.jupyter.widget-view+json": {
       "model_id": "3b89652848024b0397d5a14b10e69f1f",
       "version_major": 2,
       "version_minor": 0
      },
      "text/plain": [
       "model.onnx:   0%|          | 0.00/2.08M [00:00<?, ?B/s]"
      ]
     },
     "metadata": {},
     "output_type": "display_data"
    }
   ],
   "source": [
    "from fastembed.text.colpali_model import ColpaliTextModel\n",
    "\n",
    "model_f_i = ColpaliTextModel(model_name=\"akshayballal/colpali-v1.2-merged\")\n",
    "fastembed_q_embeddings = list(model_f_i.embed(queries))"
   ]
  },
  {
   "cell_type": "code",
   "execution_count": 5,
   "id": "dc79153ef1d3a0e7",
   "metadata": {
    "ExecuteTime": {
     "end_time": "2024-11-27T22:56:33.981640Z",
     "start_time": "2024-11-27T22:56:33.975215Z"
    }
   },
   "outputs": [
    {
     "data": {
      "text/plain": [
       "array([ 0.15808105, -0.020401  ,  0.10046387, -0.02319336,  0.04464722,\n",
       "        0.03086853,  0.07092285,  0.03094482,  0.00642776, -0.04315186,\n",
       "       -0.05871582, -0.12011719,  0.06945801, -0.06872559,  0.02192688,\n",
       "        0.05203247,  0.04309082,  0.05557251,  0.14208984,  0.01930237,\n",
       "        0.04016113, -0.03347778, -0.12988281,  0.01519775, -0.01997375,\n",
       "        0.03387451, -0.07312012,  0.22009277, -0.04208374, -0.04373169,\n",
       "        0.14050293,  0.05145264, -0.11676025, -0.08654785, -0.01660156,\n",
       "        0.04003906, -0.06347656,  0.01754761, -0.00278473,  0.05606079,\n",
       "        0.00063658, -0.07666016, -0.1842041 , -0.08789062,  0.09680176,\n",
       "       -0.09796143,  0.22021484,  0.02334595,  0.06124878,  0.01942444,\n",
       "       -0.1451416 ,  0.05764771, -0.05407715,  0.04977417, -0.09295654,\n",
       "        0.15979004,  0.08251953,  0.03430176, -0.12548828, -0.05374146,\n",
       "       -0.03567505,  0.05725098,  0.01432037,  0.09197998,  0.05490112,\n",
       "       -0.02153015,  0.20117188,  0.05340576,  0.15795898,  0.06793213,\n",
       "       -0.10949707,  0.02668762, -0.01317596, -0.15319824, -0.04272461,\n",
       "       -0.04919434,  0.0690918 ,  0.01977539, -0.21496582,  0.08673096,\n",
       "       -0.02093506, -0.07617188,  0.12011719, -0.02085876,  0.06143188,\n",
       "       -0.12145996,  0.14746094, -0.16052246,  0.05407715,  0.09411621,\n",
       "        0.12561035,  0.06161499, -0.10467529, -0.08300781,  0.04089355,\n",
       "       -0.02893066,  0.19641113, -0.02070618, -0.08050537, -0.01583862,\n",
       "       -0.04794312,  0.12756348,  0.08563232,  0.14074707,  0.0670166 ,\n",
       "        0.00191021,  0.03793335,  0.05007935, -0.13354492,  0.09527588,\n",
       "       -0.09979248,  0.02902222,  0.19995117, -0.01350403, -0.08197021,\n",
       "       -0.03619385, -0.0546875 , -0.0144043 , -0.0054512 ,  0.03964233,\n",
       "       -0.02452087,  0.0397644 , -0.06976318, -0.02655029, -0.13708496,\n",
       "       -0.04150391, -0.08532715, -0.02980042], dtype=float32)"
      ]
     },
     "execution_count": 5,
     "metadata": {},
     "output_type": "execute_result"
    }
   ],
   "source": [
    "fastembed_q_embeddings[0][0]"
   ]
  },
  {
   "cell_type": "code",
   "execution_count": 3,
   "id": "d22988ab121a057c",
   "metadata": {
    "ExecuteTime": {
     "end_time": "2024-11-20T15:36:19.343805Z",
     "start_time": "2024-11-20T15:36:19.336606Z"
    }
   },
   "outputs": [],
   "source": [
    "import numpy as np\n",
    "\n",
    "documents = model_f_i._preprocess_queries(queries)\n",
    "encoded = model_f_i.tokenize(documents)\n",
    "input_ids = np.array([[2, 9413] + e.ids[2:] for e in encoded])\n",
    "\n",
    "attention_mask = np.array([e.attention_mask for e in encoded])\n",
    "onnx_input = {\"input_ids\": np.array(input_ids, dtype=np.int64)}\n",
    "onnx_input = model_f_i._preprocess_onnx_input(onnx_input)\n",
    "onnx_input[\"attention_mask\"] = attention_mask"
   ]
  },
  {
   "cell_type": "code",
   "execution_count": 7,
   "id": "initial_id",
   "metadata": {
    "ExecuteTime": {
     "end_time": "2024-11-28T10:44:40.207323Z",
     "start_time": "2024-11-28T10:44:35.659515Z"
    },
    "collapsed": true
   },
   "outputs": [],
   "source": [
    "import numpy as np\n",
    "import onnxruntime as ort\n",
    "from colpali_engine.models import ColPaliProcessor\n",
    "\n",
    "model_name = \"vidore/colpali-v1.2-merged\"\n",
    "\n",
    "processor = ColPaliProcessor.from_pretrained(model_name)\n",
    "processor.tokenizer.max_length = 10\n",
    "batch_queries = processor.process_queries(queries, max_length=5)\n",
    "pixel_values = np.zeros((batch_queries[\"input_ids\"].shape[0], 3, 448, 448), dtype=np.float32)"
   ]
  },
  {
   "cell_type": "code",
   "execution_count": 5,
   "id": "babec1df6d511c97",
   "metadata": {
    "ExecuteTime": {
     "end_time": "2024-11-20T15:36:24.454605Z",
     "start_time": "2024-11-20T15:36:24.440732Z"
    }
   },
   "outputs": [],
   "source": [
    "assert np.allclose(onnx_input[\"input_ids\"], batch_queries[\"input_ids\"])\n",
    "assert np.allclose(onnx_input[\"attention_mask\"], batch_queries[\"attention_mask\"])\n",
    "assert np.allclose(onnx_input[\"pixel_values\"], pixel_values)"
   ]
  },
  {
   "cell_type": "code",
   "execution_count": 8,
   "id": "5d5b902398645476",
   "metadata": {
    "ExecuteTime": {
     "end_time": "2024-11-28T10:45:29.902461Z",
     "start_time": "2024-11-28T10:44:41.427491Z"
    }
   },
   "outputs": [],
   "source": [
    "sess = ort.InferenceSession(\"/Users/d.rudenko/dev/qdrant/colpali-v1.2-merged-onnx/model.onnx\")\n",
    "\n",
    "query_embeddings = sess.run(\n",
    "    [sess.get_outputs()[0].name],\n",
    "    {\n",
    "        \"input_ids\": batch_queries[\"input_ids\"].numpy(),\n",
    "        \"pixel_values\": pixel_values,\n",
    "        \"attention_mask\": batch_queries[\"attention_mask\"].numpy(),\n",
    "    },\n",
    ")[0]\n",
    "query_embeddings = np.array(query_embeddings)"
   ]
  },
  {
   "cell_type": "code",
   "execution_count": 33,
   "id": "682cec3898fb2e32",
   "metadata": {
    "ExecuteTime": {
     "end_time": "2024-11-28T10:54:28.404363Z",
     "start_time": "2024-11-28T10:54:28.401732Z"
    }
   },
   "outputs": [
    {
     "name": "stdout",
     "output_type": "stream",
     "text": [
      "[[ 0.158 -0.02   0.1   -0.023  0.045  0.031  0.071]\n",
      " [-0.074 -0.111  0.065 -0.    -0.089 -0.003 -0.099]\n",
      " [-0.034 -0.014  0.174 -0.063 -0.09  -0.036  0.064]\n",
      " [-0.07  -0.014  0.186 -0.013 -0.021 -0.062  0.107]\n",
      " [-0.085  0.025  0.179 -0.101  0.036 -0.089  0.098]\n",
      " [-0.058  0.031  0.18  -0.078  0.023 -0.119  0.131]\n",
      " [-0.067  0.038  0.188 -0.079 -0.001 -0.123  0.127]\n",
      " [-0.063  0.037  0.204 -0.069  0.003 -0.118  0.134]\n",
      " [-0.054  0.036  0.212 -0.072 -0.001 -0.117  0.133]\n",
      " [-0.044  0.03   0.218 -0.077 -0.003 -0.107  0.139]\n",
      " [-0.037  0.033  0.22  -0.088  0.    -0.095  0.146]\n",
      " [-0.031  0.041  0.213 -0.092  0.001 -0.088  0.147]\n",
      " [-0.026  0.047  0.204 -0.089 -0.002 -0.084  0.144]\n",
      " [-0.027  0.051  0.199 -0.084 -0.007 -0.083  0.14 ]\n",
      " [-0.031  0.056  0.19  -0.082 -0.011 -0.086  0.135]\n",
      " [-0.008  0.108  0.144 -0.095 -0.018 -0.086  0.085]]\n"
     ]
    }
   ],
   "source": [
    "print(np.round(query_embeddings[0][:, :7], decimals=3))"
   ]
  },
  {
   "cell_type": "code",
   "execution_count": 8,
   "id": "15ff17e6b6fd7af5",
   "metadata": {
    "ExecuteTime": {
     "end_time": "2024-11-20T15:37:16.295953Z",
     "start_time": "2024-11-20T15:37:16.293634Z"
    }
   },
   "outputs": [
    {
     "data": {
      "text/plain": [
       "(2, 16, 128)"
      ]
     },
     "execution_count": 8,
     "metadata": {},
     "output_type": "execute_result"
    }
   ],
   "source": [
    "query_embeddings.shape"
   ]
  },
  {
   "cell_type": "code",
   "execution_count": 10,
   "id": "b85e775a53e463d7",
   "metadata": {
    "ExecuteTime": {
     "end_time": "2024-11-20T15:37:18.610588Z",
     "start_time": "2024-11-20T15:37:18.608215Z"
    }
   },
   "outputs": [
    {
     "data": {
      "text/plain": [
       "True"
      ]
     },
     "execution_count": 10,
     "metadata": {},
     "output_type": "execute_result"
    }
   ],
   "source": [
    "np.allclose(query_embeddings, np.array(fastembed_q_embeddings))"
   ]
  },
  {
   "cell_type": "code",
   "execution_count": 11,
   "id": "99e615de8452f847",
   "metadata": {
    "ExecuteTime": {
     "end_time": "2024-11-20T15:37:19.371624Z",
     "start_time": "2024-11-20T15:37:19.368963Z"
    }
   },
   "outputs": [
    {
     "data": {
      "text/plain": [
       "True"
      ]
     },
     "execution_count": 11,
     "metadata": {},
     "output_type": "execute_result"
    }
   ],
   "source": [
    "np.allclose(query_embeddings, np.array(fastembed_q_embeddings))"
   ]
  },
  {
   "cell_type": "code",
   "execution_count": null,
   "id": "6738a639e64f0b71",
   "metadata": {},
   "outputs": [],
   "source": []
  }
 ],
 "metadata": {
  "kernelspec": {
   "display_name": "Python 3",
   "language": "python",
   "name": "python3"
  },
  "language_info": {
   "codemirror_mode": {
    "name": "ipython",
    "version": 2
   },
   "file_extension": ".py",
   "mimetype": "text/x-python",
   "name": "python",
   "nbconvert_exporter": "python",
   "pygments_lexer": "ipython2",
   "version": "2.7.6"
  }
 },
 "nbformat": 4,
 "nbformat_minor": 5
}
